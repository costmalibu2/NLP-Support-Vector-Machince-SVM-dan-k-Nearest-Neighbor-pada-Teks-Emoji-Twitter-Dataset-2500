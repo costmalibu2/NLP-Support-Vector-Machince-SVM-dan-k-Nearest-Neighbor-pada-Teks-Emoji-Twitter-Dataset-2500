{
  "nbformat": 4,
  "nbformat_minor": 0,
  "metadata": {
    "kernelspec": {
      "display_name": "Python 3",
      "language": "python",
      "name": "python3"
    },
    "language_info": {
      "codemirror_mode": {
        "name": "ipython",
        "version": 3
      },
      "file_extension": ".py",
      "mimetype": "text/x-python",
      "name": "python",
      "nbconvert_exporter": "python",
      "pygments_lexer": "ipython3",
      "version": "3.6.5"
    },
    "colab": {
      "name": "Sentiment Analysis using Support Vector Machine.ipynb",
      "provenance": [],
      "collapsed_sections": []
    },
    "accelerator": "GPU"
  },
  "cells": [
    {
      "cell_type": "markdown",
      "metadata": {
        "id": "3Ig_PIHCl5Jj"
      },
      "source": [
        "## Import Library dan Load Data "
      ]
    },
    {
      "cell_type": "code",
      "metadata": {
        "id": "jBwWHF9Pl5Jm"
      },
      "source": [
        "import pandas as pd"
      ],
      "execution_count": 4,
      "outputs": []
    },
    {
      "cell_type": "code",
      "metadata": {
        "id": "VEQoRojPl5Jn"
      },
      "source": [
        "data_train = pd.read_excel('dataset-emosi-twitter-2500.xlsx')\n",
        "data_test = pd.read_excel('data_test.xlsx')"
      ],
      "execution_count": 5,
      "outputs": []
    },
    {
      "cell_type": "code",
      "metadata": {
        "colab": {
          "base_uri": "https://localhost:8080/"
        },
        "id": "K3eHXgA-l5Jo",
        "outputId": "806fba96-ad20-4aa9-875f-f64b2aee29e7"
      },
      "source": [
        "#untuk melihat banyak data pada data train\n",
        "\n",
        "data_train.shape"
      ],
      "execution_count": 6,
      "outputs": [
        {
          "output_type": "execute_result",
          "data": {
            "text/plain": [
              "(2500, 2)"
            ]
          },
          "metadata": {},
          "execution_count": 6
        }
      ]
    },
    {
      "cell_type": "code",
      "metadata": {
        "colab": {
          "base_uri": "https://localhost:8080/"
        },
        "id": "8Y4Zdxntl5Jp",
        "outputId": "9aa80e29-7971-4383-d98c-87a4b5a2d13a"
      },
      "source": [
        "#untuk melihat banyak data pada data test\n",
        "\n",
        "data_test.shape"
      ],
      "execution_count": 7,
      "outputs": [
        {
          "output_type": "execute_result",
          "data": {
            "text/plain": [
              "(267, 2)"
            ]
          },
          "metadata": {},
          "execution_count": 7
        }
      ]
    },
    {
      "cell_type": "code",
      "metadata": {
        "colab": {
          "base_uri": "https://localhost:8080/",
          "height": 206
        },
        "id": "YFlT897Ul5Jp",
        "outputId": "96aa0020-8082-4c29-b2b9-88fe64de52e0"
      },
      "source": [
        "#mengambil 5 data teratas pada data train\n",
        "\n",
        "data_train.head(5)"
      ],
      "execution_count": 8,
      "outputs": [
        {
          "output_type": "execute_result",
          "data": {
            "text/html": [
              "<div>\n",
              "<style scoped>\n",
              "    .dataframe tbody tr th:only-of-type {\n",
              "        vertical-align: middle;\n",
              "    }\n",
              "\n",
              "    .dataframe tbody tr th {\n",
              "        vertical-align: top;\n",
              "    }\n",
              "\n",
              "    .dataframe thead th {\n",
              "        text-align: right;\n",
              "    }\n",
              "</style>\n",
              "<table border=\"1\" class=\"dataframe\">\n",
              "  <thead>\n",
              "    <tr style=\"text-align: right;\">\n",
              "      <th></th>\n",
              "      <th>LABEL</th>\n",
              "      <th>TEKS</th>\n",
              "    </tr>\n",
              "  </thead>\n",
              "  <tbody>\n",
              "    <tr>\n",
              "      <th>0</th>\n",
              "      <td>terkejut</td>\n",
              "      <td>@indomyfess Seokjin\\n\\nYah pas kenal Bangtan t...</td>\n",
              "    </tr>\n",
              "    <tr>\n",
              "      <th>1</th>\n",
              "      <td>jijik</td>\n",
              "      <td>@JaneeeNoLimit Wkwk. Iri dengki dah</td>\n",
              "    </tr>\n",
              "    <tr>\n",
              "      <th>2</th>\n",
              "      <td>sedih</td>\n",
              "      <td>Tadi gue lewat jalan yang aga rame orang juala...</td>\n",
              "    </tr>\n",
              "    <tr>\n",
              "      <th>3</th>\n",
              "      <td>jijik</td>\n",
              "      <td>@sunrisingbok LWBSKSN yo igual muak</td>\n",
              "    </tr>\n",
              "    <tr>\n",
              "      <th>4</th>\n",
              "      <td>terkejut</td>\n",
              "      <td>@moontygf EMG ANJRIT GUA KAGET GWS BGT NAD&lt;U+0...</td>\n",
              "    </tr>\n",
              "  </tbody>\n",
              "</table>\n",
              "</div>"
            ],
            "text/plain": [
              "      LABEL                                               TEKS\n",
              "0  terkejut  @indomyfess Seokjin\\n\\nYah pas kenal Bangtan t...\n",
              "1     jijik                @JaneeeNoLimit Wkwk. Iri dengki dah\n",
              "2     sedih  Tadi gue lewat jalan yang aga rame orang juala...\n",
              "3     jijik                @sunrisingbok LWBSKSN yo igual muak\n",
              "4  terkejut  @moontygf EMG ANJRIT GUA KAGET GWS BGT NAD<U+0..."
            ]
          },
          "metadata": {},
          "execution_count": 8
        }
      ]
    },
    {
      "cell_type": "code",
      "metadata": {
        "colab": {
          "base_uri": "https://localhost:8080/",
          "height": 206
        },
        "id": "L_xplQgNl5Jq",
        "outputId": "3c63772a-a2de-4287-8c6c-fa880cfcc614"
      },
      "source": [
        "#mengambi 5 data terbawah pada data train\n",
        "\n",
        "data_train.tail(5)"
      ],
      "execution_count": 9,
      "outputs": [
        {
          "output_type": "execute_result",
          "data": {
            "text/html": [
              "<div>\n",
              "<style scoped>\n",
              "    .dataframe tbody tr th:only-of-type {\n",
              "        vertical-align: middle;\n",
              "    }\n",
              "\n",
              "    .dataframe tbody tr th {\n",
              "        vertical-align: top;\n",
              "    }\n",
              "\n",
              "    .dataframe thead th {\n",
              "        text-align: right;\n",
              "    }\n",
              "</style>\n",
              "<table border=\"1\" class=\"dataframe\">\n",
              "  <thead>\n",
              "    <tr style=\"text-align: right;\">\n",
              "      <th></th>\n",
              "      <th>LABEL</th>\n",
              "      <th>TEKS</th>\n",
              "    </tr>\n",
              "  </thead>\n",
              "  <tbody>\n",
              "    <tr>\n",
              "      <th>2495</th>\n",
              "      <td>jijik</td>\n",
              "      <td>@akukeadilan_ Menyampah tengok mana yg letak s...</td>\n",
              "    </tr>\n",
              "    <tr>\n",
              "      <th>2496</th>\n",
              "      <td>terkejut</td>\n",
              "      <td>main ke kampung seberang, ya Allah takjub, ini...</td>\n",
              "    </tr>\n",
              "    <tr>\n",
              "      <th>2497</th>\n",
              "      <td>terkejut</td>\n",
              "      <td>kdg takle focus tgk cerita sbb ha ramâ€™s visu...</td>\n",
              "    </tr>\n",
              "    <tr>\n",
              "      <th>2498</th>\n",
              "      <td>marah</td>\n",
              "      <td>Nangroe Aceh Darussalam memang Istimewa Al Fat...</td>\n",
              "    </tr>\n",
              "    <tr>\n",
              "      <th>2499</th>\n",
              "      <td>sedih</td>\n",
              "      <td>nyesek rasanya kenapa kamu setega itu</td>\n",
              "    </tr>\n",
              "  </tbody>\n",
              "</table>\n",
              "</div>"
            ],
            "text/plain": [
              "         LABEL                                               TEKS\n",
              "2495     jijik  @akukeadilan_ Menyampah tengok mana yg letak s...\n",
              "2496  terkejut  main ke kampung seberang, ya Allah takjub, ini...\n",
              "2497  terkejut  kdg takle focus tgk cerita sbb ha ramâ€™s visu...\n",
              "2498     marah  Nangroe Aceh Darussalam memang Istimewa Al Fat...\n",
              "2499     sedih              nyesek rasanya kenapa kamu setega itu"
            ]
          },
          "metadata": {},
          "execution_count": 9
        }
      ]
    },
    {
      "cell_type": "code",
      "metadata": {
        "colab": {
          "base_uri": "https://localhost:8080/",
          "height": 206
        },
        "id": "G81EoPEtl5Jq",
        "outputId": "f14c90fa-8c13-448f-d55b-bad4d886f092"
      },
      "source": [
        "#mengamnil 5 data secara acak pada data train\n",
        "\n",
        "data_train.sample(5)"
      ],
      "execution_count": 10,
      "outputs": [
        {
          "output_type": "execute_result",
          "data": {
            "text/html": [
              "<div>\n",
              "<style scoped>\n",
              "    .dataframe tbody tr th:only-of-type {\n",
              "        vertical-align: middle;\n",
              "    }\n",
              "\n",
              "    .dataframe tbody tr th {\n",
              "        vertical-align: top;\n",
              "    }\n",
              "\n",
              "    .dataframe thead th {\n",
              "        text-align: right;\n",
              "    }\n",
              "</style>\n",
              "<table border=\"1\" class=\"dataframe\">\n",
              "  <thead>\n",
              "    <tr style=\"text-align: right;\">\n",
              "      <th></th>\n",
              "      <th>LABEL</th>\n",
              "      <th>TEKS</th>\n",
              "    </tr>\n",
              "  </thead>\n",
              "  <tbody>\n",
              "    <tr>\n",
              "      <th>2048</th>\n",
              "      <td>marah</td>\n",
              "      <td>Positif thinking aja..susu kental manis ga ada...</td>\n",
              "    </tr>\n",
              "    <tr>\n",
              "      <th>975</th>\n",
              "      <td>marah</td>\n",
              "      <td>Pencitraan terbesar kampus itu ketika mau akre...</td>\n",
              "    </tr>\n",
              "    <tr>\n",
              "      <th>119</th>\n",
              "      <td>terkejut</td>\n",
              "      <td>[Askrl] gais aku masih heran kok dokter bisa t...</td>\n",
              "    </tr>\n",
              "    <tr>\n",
              "      <th>1777</th>\n",
              "      <td>senang</td>\n",
              "      <td>wanita yang paling malang di dunia adalah wani...</td>\n",
              "    </tr>\n",
              "    <tr>\n",
              "      <th>757</th>\n",
              "      <td>sedih</td>\n",
              "      <td>Sayang banget ketika ada film lokal yang bagus...</td>\n",
              "    </tr>\n",
              "  </tbody>\n",
              "</table>\n",
              "</div>"
            ],
            "text/plain": [
              "         LABEL                                               TEKS\n",
              "2048     marah  Positif thinking aja..susu kental manis ga ada...\n",
              "975      marah  Pencitraan terbesar kampus itu ketika mau akre...\n",
              "119   terkejut  [Askrl] gais aku masih heran kok dokter bisa t...\n",
              "1777    senang  wanita yang paling malang di dunia adalah wani...\n",
              "757      sedih  Sayang banget ketika ada film lokal yang bagus..."
            ]
          },
          "metadata": {},
          "execution_count": 10
        }
      ]
    },
    {
      "cell_type": "code",
      "metadata": {
        "colab": {
          "base_uri": "https://localhost:8080/",
          "height": 174
        },
        "id": "hKdjx7Ugl5Jr",
        "outputId": "9fba5223-b33d-4002-d769-82c799a6406a"
      },
      "source": [
        "#deskripsi data pada data train\n",
        "\n",
        "data_train.describe()"
      ],
      "execution_count": 11,
      "outputs": [
        {
          "output_type": "execute_result",
          "data": {
            "text/html": [
              "<div>\n",
              "<style scoped>\n",
              "    .dataframe tbody tr th:only-of-type {\n",
              "        vertical-align: middle;\n",
              "    }\n",
              "\n",
              "    .dataframe tbody tr th {\n",
              "        vertical-align: top;\n",
              "    }\n",
              "\n",
              "    .dataframe thead th {\n",
              "        text-align: right;\n",
              "    }\n",
              "</style>\n",
              "<table border=\"1\" class=\"dataframe\">\n",
              "  <thead>\n",
              "    <tr style=\"text-align: right;\">\n",
              "      <th></th>\n",
              "      <th>LABEL</th>\n",
              "      <th>TEKS</th>\n",
              "    </tr>\n",
              "  </thead>\n",
              "  <tbody>\n",
              "    <tr>\n",
              "      <th>count</th>\n",
              "      <td>2500</td>\n",
              "      <td>2500</td>\n",
              "    </tr>\n",
              "    <tr>\n",
              "      <th>unique</th>\n",
              "      <td>6</td>\n",
              "      <td>2477</td>\n",
              "    </tr>\n",
              "    <tr>\n",
              "      <th>top</th>\n",
              "      <td>terkejut</td>\n",
              "      <td>Knp sih masyarakat Indonesia itu ngeyel bgt ka...</td>\n",
              "    </tr>\n",
              "    <tr>\n",
              "      <th>freq</th>\n",
              "      <td>723</td>\n",
              "      <td>4</td>\n",
              "    </tr>\n",
              "  </tbody>\n",
              "</table>\n",
              "</div>"
            ],
            "text/plain": [
              "           LABEL                                               TEKS\n",
              "count       2500                                               2500\n",
              "unique         6                                               2477\n",
              "top     terkejut  Knp sih masyarakat Indonesia itu ngeyel bgt ka...\n",
              "freq         723                                                  4"
            ]
          },
          "metadata": {},
          "execution_count": 11
        }
      ]
    },
    {
      "cell_type": "code",
      "metadata": {
        "colab": {
          "base_uri": "https://localhost:8080/"
        },
        "id": "B8UPIF2Xl5Js",
        "outputId": "2dc6a07a-c229-4d20-b56d-243481d887fa"
      },
      "source": [
        "#melihat kolom pada data train\n",
        "\n",
        "data_train.columns"
      ],
      "execution_count": 12,
      "outputs": [
        {
          "output_type": "execute_result",
          "data": {
            "text/plain": [
              "Index(['LABEL', 'TEKS'], dtype='object')"
            ]
          },
          "metadata": {},
          "execution_count": 12
        }
      ]
    },
    {
      "cell_type": "code",
      "metadata": {
        "colab": {
          "base_uri": "https://localhost:8080/"
        },
        "id": "2bO4OMGQl5Js",
        "outputId": "e4da78ac-4647-40b4-9b40-2bd04517cd5c"
      },
      "source": [
        "#menghitung jumlah variabel pada kolom tweets\n",
        "data_train['TEKS'].value_counts()"
      ],
      "execution_count": 13,
      "outputs": [
        {
          "output_type": "execute_result",
          "data": {
            "text/plain": [
              "Knp sih masyarakat Indonesia itu ngeyel bgt kalo dikasih tau. Ngerti ga sih yg namanya \"dirumah aj\" ? Anda tuh disuruh stay dirumah ama pemerintah, bukan dikasih libur/cuti. Knp harus dirumah? Knp ga boleh keluar? Karena covid-19 sedang menyerang Indonesia.    4\n",
              "Tak ada orang yang senang dengan\\nkekalahan.\\nAku merasa dongkol kalau kalah.\\nTapi, bagiku kekalahan dan luka bukanlah\\nakhir dari s ##Bot                                                                                                                          2\n",
              "paling ngeselin kalau driver udah bilang mbak yang cancel ya tapi jangan centang yang driver asked to cancel jangan ajar                                                                                                                                             2\n",
              "Serasa bangga n tepat, memilih sekolah untuk Si Kecil yg tegas memberi statement bahwa akan terus menggunakan #Kurikulum2013 SDM GKB2 Gresik                                                                                                                         2\n",
              "RT @putrakmrdn: Tolong kekalkan SOP majlis perkahwinan dengan kehadiran terhad. Sampai tahun 2050 pun tak apa. Biar makcik pakcik sedor per…                                                                                                                         2\n",
              "                                                                                                                                                                                                                                                                    ..\n",
              "@asarthurs Eh anjir kaget sumpah lu ganti ava                                                                                                                                                                                                                        1\n",
              "maaf ya mas? Maafin aku yang belum bisa kasih apa yang udah kamu kasih ke aku. Maaf aku sering buat kamu kesel ataupun sampe marah, I think I should berubah, jadi lebih nurut ke kamu, maaf kalau kata\" ini sering buat kamu muak ataupun bosen bacanya hehehe.     1\n",
              "bibi adikku si cantik suka banget liatnya kalau kamu lagi Senang enggak tau kenapa jadi ikutan Senang bi pos                                                                                                                                                         1\n",
              "bangun tidur bgt cek handphone dapet pergantian schedule klo besok harus tugas terbang ke china. langsung meleeekk, huaaa kok baru ini gue Takut mau tugas terbang                                                                                                   1\n",
              "Ya Allah, kayak tadi pagi aku lagi bantuin mama di dapur, lupa matiin WiFi di HP, jadi mungkin dia mikir ceklis 2 tapi gak di bales, terus sampe call aku, kaget bgt langsung lari ke kamar :â€™ https://t.co/om2wWPhFZj                                             1\n",
              "Name: TEKS, Length: 2477, dtype: int64"
            ]
          },
          "metadata": {},
          "execution_count": 13
        }
      ]
    },
    {
      "cell_type": "code",
      "metadata": {
        "id": "TY02l2fkl5Js"
      },
      "source": [
        "%matplotlib inline\n",
        "import matplotlib.pyplot as plt"
      ],
      "execution_count": 14,
      "outputs": []
    },
    {
      "cell_type": "code",
      "metadata": {
        "colab": {
          "base_uri": "https://localhost:8080/",
          "height": 392
        },
        "id": "fTDf9opTl5Jt",
        "outputId": "f3e8e46c-e6f0-4c06-ad96-bc3c913225aa"
      },
      "source": [
        "#melihat panjang tweet dalam data train dan data test\n",
        "\n",
        "length_train = data_train['TEKS'].str.len()\n",
        "length_test = data_test['LABEL'].str.len()\n",
        "plt.figure(figsize=(10,6))\n",
        "plt.hist(length_train, bins=50, label=\"Train_Teks\", color = \"darkblue\")\n",
        "plt.hist(length_test, bins=50, label='Test_Teks', color = \"skyblue\")\n",
        "plt.legend()"
      ],
      "execution_count": 15,
      "outputs": [
        {
          "output_type": "execute_result",
          "data": {
            "text/plain": [
              "<matplotlib.legend.Legend at 0x7fcda0a0e450>"
            ]
          },
          "metadata": {},
          "execution_count": 15
        },
        {
          "output_type": "display_data",
          "data": {
            "image/png": "[encoded data removed]",
            "text/plain": [
              "<Figure size 720x432 with 1 Axes>"
            ]
          },
          "metadata": {
            "needs_background": "light"
          }
        }
      ]
    },
    {
      "cell_type": "markdown",
      "metadata": {
        "id": "p5OpTQYMl5Jt"
      },
      "source": [
        "### Membuat train_test"
      ]
    },
    {
      "cell_type": "code",
      "metadata": {
        "id": "0EYbIE4Zl5Jt"
      },
      "source": [
        "from sklearn.model_selection import train_test_split"
      ],
      "execution_count": 16,
      "outputs": []
    },
    {
      "cell_type": "code",
      "metadata": {
        "id": "zpv4QAl_l5Ju"
      },
      "source": [
        "X=data_train.LABEL\n",
        "y=data_train.TEKS"
      ],
      "execution_count": 17,
      "outputs": []
    },
    {
      "cell_type": "code",
      "metadata": {
        "id": "Z1O3JQ38l5Ju"
      },
      "source": [
        "x_train, x_test, y_train, y_test = train_test_split(X,y,test_size=0.1, random_state=225)"
      ],
      "execution_count": 18,
      "outputs": []
    },
    {
      "cell_type": "code",
      "metadata": {
        "colab": {
          "base_uri": "https://localhost:8080/"
        },
        "id": "3-zr4B9nl5Ju",
        "outputId": "3bf9ef13-23cb-4ee9-f79a-695dd1d4b567"
      },
      "source": [
        "#melihat pembagian data di x_train, x_test, y_train dan y_test\n",
        "\n",
        "print('Banyak data x_train :',len(x_train))\n",
        "print('Banyak data x_test  :',len(x_test))\n",
        "print('Banyak data y_train :',len(y_train))\n",
        "print('Banyak data y_test  :',len(y_test))\n",
        "\n"
      ],
      "execution_count": 19,
      "outputs": [
        {
          "output_type": "stream",
          "name": "stdout",
          "text": [
            "Banyak data x_train : 2250\n",
            "Banyak data x_test  : 250\n",
            "Banyak data y_train : 2250\n",
            "Banyak data y_test  : 250\n"
          ]
        }
      ]
    },
    {
      "cell_type": "markdown",
      "metadata": {
        "id": "76bGbhSNl5Ju"
      },
      "source": [
        "## Preprocessing"
      ]
    },
    {
      "cell_type": "markdown",
      "metadata": {
        "id": "4snVubFll5Jv"
      },
      "source": [
        "Pada tahap ini yang dilakukan adalah membuat data yang ada menjadi data yang lebih berkualitas atau lebih baik, dikarenakan pada data mentah masih ada yang mengandung agregat data, noisy data yang masih mengandung error dan outliers, serta ada nya data yang tidak konsisten."
      ]
    },
    {
      "cell_type": "code",
      "metadata": {
        "id": "CtS7pFH1l5Jv"
      },
      "source": [
        "import re"
      ],
      "execution_count": 20,
      "outputs": []
    },
    {
      "cell_type": "code",
      "metadata": {
        "colab": {
          "base_uri": "https://localhost:8080/"
        },
        "id": "wbsMdw9Yl5Jv",
        "outputId": "11257b3b-3c8d-4065-e7bd-11b138d4eed6"
      },
      "source": [
        "pip install -U beautifulsoup4"
      ],
      "execution_count": 21,
      "outputs": [
        {
          "output_type": "stream",
          "name": "stdout",
          "text": [
            "Requirement already satisfied: beautifulsoup4 in /usr/local/lib/python3.7/dist-packages (4.6.3)\n",
            "Collecting beautifulsoup4\n",
            "  Downloading beautifulsoup4-4.10.0-py3-none-any.whl (97 kB)\n",
            "\u001b[K     |████████████████████████████████| 97 kB 3.6 MB/s \n",
            "\u001b[?25hCollecting soupsieve>1.2\n",
            "  Downloading soupsieve-2.2.1-py3-none-any.whl (33 kB)\n",
            "Installing collected packages: soupsieve, beautifulsoup4\n",
            "  Attempting uninstall: beautifulsoup4\n",
            "    Found existing installation: beautifulsoup4 4.6.3\n",
            "    Uninstalling beautifulsoup4-4.6.3:\n",
            "      Successfully uninstalled beautifulsoup4-4.6.3\n",
            "Successfully installed beautifulsoup4-4.10.0 soupsieve-2.2.1\n"
          ]
        }
      ]
    },
    {
      "cell_type": "code",
      "metadata": {
        "id": "5iVp9-0-l5Jv"
      },
      "source": [
        "from bs4 import BeautifulSoup\n",
        "from nltk.tokenize import WordPunctTokenizer\n",
        "import numpy as np"
      ],
      "execution_count": 22,
      "outputs": []
    },
    {
      "cell_type": "code",
      "metadata": {
        "id": "2fzoqmRgl5Jw"
      },
      "source": [
        "def proses_teks(teks):\n",
        "    soup = BeautifulSoup(teks, 'lxml')\n",
        "    souped = soup.get_text()\n",
        "    try:\n",
        "        teks = souped.decode(\"utf-8-sig\").replace(u\"\\ufffd\", \"?\")\n",
        "    except:\n",
        "        teks = souped\n",
        "    teks_bersih= re.sub(\"[^a-zA-Z0-9]\", \" \",(re.sub(www_pat, '', re.sub(combined_pat, '', teks)).lower()))\n",
        "    teks_bersih= ' '.join([word for word in teks_bersih.split() if word not in stopword_user])\n",
        "    return (\" \".join([x for x in tok.tokenize(teks_bersih) if len(x) > 1])).strip()"
      ],
      "execution_count": 23,
      "outputs": []
    },
    {
      "cell_type": "code",
      "metadata": {
        "colab": {
          "base_uri": "https://localhost:8080/"
        },
        "id": "WKnBmxDWl5Jw",
        "outputId": "65c328de-3fe0-446d-8ce6-ac2f31761209"
      },
      "source": [
        "merge = data_train.append(data_test, ignore_index=True, sort=False)\n",
        "merge.shape"
      ],
      "execution_count": 24,
      "outputs": [
        {
          "output_type": "execute_result",
          "data": {
            "text/plain": [
              "(2767, 2)"
            ]
          },
          "metadata": {},
          "execution_count": 24
        }
      ]
    },
    {
      "cell_type": "code",
      "metadata": {
        "id": "XuGJNnMsl5Jw"
      },
      "source": [
        "tok = WordPunctTokenizer()\n",
        "pat1 = r'@[A-Za-z0-9_]+' #menghilangkat username\n",
        "pat2 = r'https?://[^ ]+' #menghilangkan situs website\n",
        "combined_pat = r'|'.join((pat1, pat2)) #join pat1 dan pat 2\n",
        "www_pat = r'www.[^ ]+' #menghilangkan situs website"
      ],
      "execution_count": 25,
      "outputs": []
    },
    {
      "cell_type": "code",
      "metadata": {
        "id": "8JLguYtyl5Jw"
      },
      "source": [
        "def remove_pattern(input_txt, pattern):\n",
        "    r = re.findall(pattern, input_txt)\n",
        "    for i in r:\n",
        "        input_txt = re.sub(i, '', input_txt)\n",
        "    return input_txt\n",
        "\n",
        "merge['clean_teks'] = np.vectorize(remove_pattern)(merge['TEKS'], \"@[\\w]*\") #menghilangkan @user\n",
        "merge['clean_teks'] = merge['clean_teks'].str.replace(\"[^a-zA-Z#]\", \" \") #menghilangkan punctuation, angka, dan karakter\n",
        "merge['clean_teks'] = merge['clean_teks'].apply(lambda x: ' '.join([w for w in x.split() if len(w)>3])) #menghapus kata pendek"
      ],
      "execution_count": 26,
      "outputs": []
    },
    {
      "cell_type": "code",
      "metadata": {
        "colab": {
          "base_uri": "https://localhost:8080/",
          "height": 206
        },
        "id": "WZmiGJ9Wl5Jw",
        "outputId": "a087993f-c465-475f-ee59-45c1b3594bbe"
      },
      "source": [
        "merge.head(5)"
      ],
      "execution_count": 27,
      "outputs": [
        {
          "output_type": "execute_result",
          "data": {
            "text/html": [
              "<div>\n",
              "<style scoped>\n",
              "    .dataframe tbody tr th:only-of-type {\n",
              "        vertical-align: middle;\n",
              "    }\n",
              "\n",
              "    .dataframe tbody tr th {\n",
              "        vertical-align: top;\n",
              "    }\n",
              "\n",
              "    .dataframe thead th {\n",
              "        text-align: right;\n",
              "    }\n",
              "</style>\n",
              "<table border=\"1\" class=\"dataframe\">\n",
              "  <thead>\n",
              "    <tr style=\"text-align: right;\">\n",
              "      <th></th>\n",
              "      <th>LABEL</th>\n",
              "      <th>TEKS</th>\n",
              "      <th>clean_teks</th>\n",
              "    </tr>\n",
              "  </thead>\n",
              "  <tbody>\n",
              "    <tr>\n",
              "      <th>0</th>\n",
              "      <td>terkejut</td>\n",
              "      <td>@indomyfess Seokjin\\n\\nYah pas kenal Bangtan t...</td>\n",
              "      <td>Seokjin kenal Bangtan tiba lihat seokjin jadi ...</td>\n",
              "    </tr>\n",
              "    <tr>\n",
              "      <th>1</th>\n",
              "      <td>jijik</td>\n",
              "      <td>@JaneeeNoLimit Wkwk. Iri dengki dah</td>\n",
              "      <td>Wkwk dengki</td>\n",
              "    </tr>\n",
              "    <tr>\n",
              "      <th>2</th>\n",
              "      <td>sedih</td>\n",
              "      <td>Tadi gue lewat jalan yang aga rame orang juala...</td>\n",
              "      <td>Tadi lewat jalan yang rame orang jualan liat d...</td>\n",
              "    </tr>\n",
              "    <tr>\n",
              "      <th>3</th>\n",
              "      <td>jijik</td>\n",
              "      <td>@sunrisingbok LWBSKSN yo igual muak</td>\n",
              "      <td>LWBSKSN igual muak</td>\n",
              "    </tr>\n",
              "    <tr>\n",
              "      <th>4</th>\n",
              "      <td>terkejut</td>\n",
              "      <td>@moontygf EMG ANJRIT GUA KAGET GWS BGT NAD&lt;U+0...</td>\n",
              "      <td>ANJRIT KAGET</td>\n",
              "    </tr>\n",
              "  </tbody>\n",
              "</table>\n",
              "</div>"
            ],
            "text/plain": [
              "      LABEL  ...                                         clean_teks\n",
              "0  terkejut  ...  Seokjin kenal Bangtan tiba lihat seokjin jadi ...\n",
              "1     jijik  ...                                        Wkwk dengki\n",
              "2     sedih  ...  Tadi lewat jalan yang rame orang jualan liat d...\n",
              "3     jijik  ...                                 LWBSKSN igual muak\n",
              "4  terkejut  ...                                       ANJRIT KAGET\n",
              "\n",
              "[5 rows x 3 columns]"
            ]
          },
          "metadata": {},
          "execution_count": 27
        }
      ]
    },
    {
      "cell_type": "markdown",
      "metadata": {
        "id": "DDH027l5l5Jw"
      },
      "source": [
        "### Tokenization"
      ]
    },
    {
      "cell_type": "markdown",
      "metadata": {
        "id": "9IgwtIDpl5Jx"
      },
      "source": [
        "Tahap ini merupakan proses memecah dokumen yang terdiri dari sekumpulan kalimat menjadi bagian-bagian kata yang disebut dengan token"
      ]
    },
    {
      "cell_type": "code",
      "metadata": {
        "colab": {
          "base_uri": "https://localhost:8080/"
        },
        "id": "4njyEE0Yl5Jx",
        "outputId": "ef025d84-14dd-4303-a35c-bccc4ce40050"
      },
      "source": [
        "tokenized_tweet = merge['clean_teks'].apply(lambda x: x.split())\n",
        "tokenized_tweet.head()"
      ],
      "execution_count": 28,
      "outputs": [
        {
          "output_type": "execute_result",
          "data": {
            "text/plain": [
              "0    [Seokjin, kenal, Bangtan, tiba, lihat, seokjin...\n",
              "1                                       [Wkwk, dengki]\n",
              "2    [Tadi, lewat, jalan, yang, rame, orang, jualan...\n",
              "3                               [LWBSKSN, igual, muak]\n",
              "4                                      [ANJRIT, KAGET]\n",
              "Name: clean_teks, dtype: object"
            ]
          },
          "metadata": {},
          "execution_count": 28
        }
      ]
    },
    {
      "cell_type": "markdown",
      "metadata": {
        "id": "D9UEFSI6l5Jx"
      },
      "source": [
        "### Stemming"
      ]
    },
    {
      "cell_type": "markdown",
      "metadata": {
        "id": "RuRIs1E3l5Jx"
      },
      "source": [
        "Tahap ini merupakan mantransformasi kata menjadi kata dasar dengan menghilangkan imbuhan kata"
      ]
    },
    {
      "cell_type": "code",
      "metadata": {
        "colab": {
          "base_uri": "https://localhost:8080/"
        },
        "id": "o5Z9rZyvl5Jx",
        "outputId": "2d74c9b3-e2a2-4b1b-da5f-30d47fdf5f83"
      },
      "source": [
        "from nltk.stem import PorterStemmer\n",
        "stemmer = PorterStemmer()\n",
        "tokenized_tweet = tokenized_tweet.apply(lambda x: [stemmer.stem(i) for i in x])\n",
        "tokenized_tweet.head()"
      ],
      "execution_count": 29,
      "outputs": [
        {
          "output_type": "execute_result",
          "data": {
            "text/plain": [
              "0    [seokjin, kenal, bangtan, tiba, lihat, seokjin...\n",
              "1                                       [wkwk, dengki]\n",
              "2    [tadi, lewat, jalan, yang, rame, orang, jualan...\n",
              "3                               [lwbsksn, igual, muak]\n",
              "4                                      [anjrit, kaget]\n",
              "Name: clean_teks, dtype: object"
            ]
          },
          "metadata": {},
          "execution_count": 29
        }
      ]
    },
    {
      "cell_type": "markdown",
      "metadata": {
        "id": "BkPxc-tAl5Jx"
      },
      "source": [
        "### Transformation"
      ]
    },
    {
      "cell_type": "code",
      "metadata": {
        "colab": {
          "base_uri": "https://localhost:8080/",
          "height": 206
        },
        "id": "Nfwj8pGKl5Jx",
        "outputId": "c9522176-f987-4c06-8f16-9a42d2c4c31c"
      },
      "source": [
        "#menambahkan tweet yang sudah bersih ke dalam data frame\n",
        "\n",
        "for i in range(len(tokenized_tweet)):\n",
        "    tokenized_tweet[i] = ' '.join(tokenized_tweet[i])\n",
        "    \n",
        "merge['clean_tweet'] = tokenized_tweet\n",
        "merge.head()"
      ],
      "execution_count": 30,
      "outputs": [
        {
          "output_type": "execute_result",
          "data": {
            "text/html": [
              "<div>\n",
              "<style scoped>\n",
              "    .dataframe tbody tr th:only-of-type {\n",
              "        vertical-align: middle;\n",
              "    }\n",
              "\n",
              "    .dataframe tbody tr th {\n",
              "        vertical-align: top;\n",
              "    }\n",
              "\n",
              "    .dataframe thead th {\n",
              "        text-align: right;\n",
              "    }\n",
              "</style>\n",
              "<table border=\"1\" class=\"dataframe\">\n",
              "  <thead>\n",
              "    <tr style=\"text-align: right;\">\n",
              "      <th></th>\n",
              "      <th>LABEL</th>\n",
              "      <th>TEKS</th>\n",
              "      <th>clean_teks</th>\n",
              "      <th>clean_tweet</th>\n",
              "    </tr>\n",
              "  </thead>\n",
              "  <tbody>\n",
              "    <tr>\n",
              "      <th>0</th>\n",
              "      <td>terkejut</td>\n",
              "      <td>@indomyfess Seokjin\\n\\nYah pas kenal Bangtan t...</td>\n",
              "      <td>Seokjin kenal Bangtan tiba lihat seokjin jadi ...</td>\n",
              "      <td>seokjin kenal bangtan tiba lihat seokjin jadi ...</td>\n",
              "    </tr>\n",
              "    <tr>\n",
              "      <th>1</th>\n",
              "      <td>jijik</td>\n",
              "      <td>@JaneeeNoLimit Wkwk. Iri dengki dah</td>\n",
              "      <td>Wkwk dengki</td>\n",
              "      <td>wkwk dengki</td>\n",
              "    </tr>\n",
              "    <tr>\n",
              "      <th>2</th>\n",
              "      <td>sedih</td>\n",
              "      <td>Tadi gue lewat jalan yang aga rame orang juala...</td>\n",
              "      <td>Tadi lewat jalan yang rame orang jualan liat d...</td>\n",
              "      <td>tadi lewat jalan yang rame orang jualan liat d...</td>\n",
              "    </tr>\n",
              "    <tr>\n",
              "      <th>3</th>\n",
              "      <td>jijik</td>\n",
              "      <td>@sunrisingbok LWBSKSN yo igual muak</td>\n",
              "      <td>LWBSKSN igual muak</td>\n",
              "      <td>lwbsksn igual muak</td>\n",
              "    </tr>\n",
              "    <tr>\n",
              "      <th>4</th>\n",
              "      <td>terkejut</td>\n",
              "      <td>@moontygf EMG ANJRIT GUA KAGET GWS BGT NAD&lt;U+0...</td>\n",
              "      <td>ANJRIT KAGET</td>\n",
              "      <td>anjrit kaget</td>\n",
              "    </tr>\n",
              "  </tbody>\n",
              "</table>\n",
              "</div>"
            ],
            "text/plain": [
              "      LABEL  ...                                        clean_tweet\n",
              "0  terkejut  ...  seokjin kenal bangtan tiba lihat seokjin jadi ...\n",
              "1     jijik  ...                                        wkwk dengki\n",
              "2     sedih  ...  tadi lewat jalan yang rame orang jualan liat d...\n",
              "3     jijik  ...                                 lwbsksn igual muak\n",
              "4  terkejut  ...                                       anjrit kaget\n",
              "\n",
              "[5 rows x 4 columns]"
            ]
          },
          "metadata": {},
          "execution_count": 30
        }
      ]
    },
    {
      "cell_type": "markdown",
      "metadata": {
        "id": "K377mSY-l5Jy"
      },
      "source": [
        "### Visualiasasi dengan data yang sudah bersih, dengan menggunakan Word Cloud"
      ]
    },
    {
      "cell_type": "code",
      "metadata": {
        "id": "nGrsdMCEl5Jy"
      },
      "source": [
        "#untuk melihat sentimen yang ada pada seluruh data train. Dapat dilihat dengan memahami kata yang umum dengan plot word cloud\n",
        "\n",
        "from wordcloud import WordCloud\n",
        "def plot_wordCloud(words):\n",
        "    wordCloud = WordCloud(width=800, height=500, background_color='white', random_state=21, max_font_size=120).generate(words)\n",
        "    \n",
        "    plt.figure(figsize=(10, 7))\n",
        "    plt.imshow(wordCloud, interpolation='bilinear')\n",
        "    plt.axis('off')"
      ],
      "execution_count": 31,
      "outputs": []
    },
    {
      "cell_type": "markdown",
      "metadata": {
        "id": "KinR4d1pl5Jz"
      },
      "source": [
        "## Extracting Features"
      ]
    },
    {
      "cell_type": "markdown",
      "metadata": {
        "id": "Vw3c_cVwl5Jz"
      },
      "source": [
        "### Bag-of-words"
      ]
    },
    {
      "cell_type": "markdown",
      "metadata": {
        "id": "RSziNPmml5Jz"
      },
      "source": [
        "Bag of word merupakan representasi penyederhanaan yang digunakan dalam NLP. Dalam model ini, direpresentasi sebagai bag (multiset) kata-katanya, mengabaikan tata bahasa dan urutan kata tetapi tetap berkembang"
      ]
    },
    {
      "cell_type": "code",
      "metadata": {
        "id": "q-Y8Fqdwl5Jz"
      },
      "source": [
        "from sklearn.feature_extraction.text import CountVectorizer\n",
        "\n",
        "bow_vectorizer = CountVectorizer(max_df=0.90, min_df=2, max_features=1000, stop_words='english')\n",
        "bow = bow_vectorizer.fit_transform(merge['clean_teks'])"
      ],
      "execution_count": 32,
      "outputs": []
    },
    {
      "cell_type": "markdown",
      "metadata": {
        "id": "b2C_ebZgl5Jz"
      },
      "source": [
        "### TF_IDF"
      ]
    },
    {
      "cell_type": "markdown",
      "metadata": {
        "id": "ZuBv8bBrl5Jz"
      },
      "source": [
        "TF-IDF atau Term Frequency-Inverse Document Frequency, merupakan proses pemberian bobot term pada dokumen. Pembobotan ini dogunakan untuk melakukan klasifikasi data."
      ]
    },
    {
      "cell_type": "code",
      "metadata": {
        "id": "h6-5YQezl5Jz"
      },
      "source": [
        "tfidf_vectorizer = CountVectorizer(max_df=0.90, max_features=1000, stop_words='english')\n",
        "tfidf = bow_vectorizer.fit_transform(merge['clean_teks'])"
      ],
      "execution_count": 33,
      "outputs": []
    },
    {
      "cell_type": "markdown",
      "metadata": {
        "id": "HvQg2mKLl5Jz"
      },
      "source": [
        "### Word2vec"
      ]
    },
    {
      "cell_type": "markdown",
      "metadata": {
        "id": "CCUvJLLfl5J0"
      },
      "source": [
        "Word2vec adalah metode embedding word yang berguna untuk mempresentasikan kata menjadi sebuah vektor dengan panjang N. "
      ]
    },
    {
      "cell_type": "code",
      "metadata": {
        "colab": {
          "base_uri": "https://localhost:8080/"
        },
        "id": "_G0iHFtHl5J0",
        "outputId": "a82a280a-92d5-4a90-f7c3-3380088e3dc0"
      },
      "source": [
        "tokenized_tweet = merge['clean_teks'].apply(lambda x: x.split()) #tokenize\n",
        "\n",
        "import gensim\n",
        "model_w2v = gensim.models.Word2Vec(\n",
        "            tokenized_tweet,\n",
        "            size=200,\n",
        "            window = 5, #ukuran jendela\n",
        "            min_count =2,\n",
        "            sg = 1, #skip gram model\n",
        "            hs = 0,\n",
        "            negative = 10, #jumlah contoh kata negatif\n",
        "            workers = 2,\n",
        "            seed = 34)\n",
        "\n",
        "model_w2v.train(tokenized_tweet, total_examples= len(merge['clean_teks']), epochs=20)"
      ],
      "execution_count": 34,
      "outputs": [
        {
          "output_type": "execute_result",
          "data": {
            "text/plain": [
              "(611576, 807100)"
            ]
          },
          "metadata": {},
          "execution_count": 34
        }
      ]
    },
    {
      "cell_type": "code",
      "metadata": {
        "id": "SFTIcUlgl5J0"
      },
      "source": [
        "def word_vector(tokens, size):\n",
        "    vec = np.zeros(size).reshape((1, size))\n",
        "    count = 0.\n",
        "    for word in tokens:\n",
        "        try:\n",
        "            vec += model_w2v[word].reshape((1, size))\n",
        "            count += 1.\n",
        "        except KeyError: # apabila ada kasus dimana token tidak ada dalam kosa kata\n",
        "                         \n",
        "            continue\n",
        "    if count != 0:\n",
        "        vec /= count\n",
        "    return vec"
      ],
      "execution_count": 35,
      "outputs": []
    },
    {
      "cell_type": "code",
      "metadata": {
        "colab": {
          "base_uri": "https://localhost:8080/"
        },
        "id": "0xYxNPx2l5J0",
        "outputId": "ad8f8dc6-6a77-4199-dab7-902159dc0540"
      },
      "source": [
        "wordvec_arrays = np.zeros((len(tokenized_tweet), 200))\n",
        "\n",
        "for i in range(len(tokenized_tweet)):\n",
        "    wordvec_arrays[i,:] = word_vector(tokenized_tweet[i], 200)\n",
        "    \n",
        "wordvec_df = pd.DataFrame(wordvec_arrays)\n",
        "wordvec_df.shape"
      ],
      "execution_count": 36,
      "outputs": [
        {
          "output_type": "stream",
          "name": "stderr",
          "text": [
            "/usr/local/lib/python3.7/dist-packages/ipykernel_launcher.py:6: DeprecationWarning: Call to deprecated `__getitem__` (Method will be removed in 4.0.0, use self.wv.__getitem__() instead).\n",
            "  \n"
          ]
        },
        {
          "output_type": "execute_result",
          "data": {
            "text/plain": [
              "(2767, 200)"
            ]
          },
          "metadata": {},
          "execution_count": 36
        }
      ]
    },
    {
      "cell_type": "markdown",
      "metadata": {
        "id": "RfR07ucSl5J0"
      },
      "source": [
        "## Classification SVM"
      ]
    },
    {
      "cell_type": "markdown",
      "metadata": {
        "id": "ENxJbttSl5J0"
      },
      "source": [
        "#### Support Vector Machine (SVM)"
      ]
    },
    {
      "cell_type": "code",
      "metadata": {
        "id": "wSpaCfdev14l"
      },
      "source": [
        ""
      ],
      "execution_count": 36,
      "outputs": []
    },
    {
      "cell_type": "markdown",
      "metadata": {
        "id": "FNQQXk5ql5J1"
      },
      "source": [
        "SVM merupakan salah satu metode klasifikasi dengan menemukan hyperplance yang membedakan dua kelas dengan baik. Teknik ini digunakan untuk mentranformasikan data dan kemudian menemukan batas optimal."
      ]
    },
    {
      "cell_type": "markdown",
      "metadata": {
        "id": "XsQJci6pl5J1"
      },
      "source": [
        "Bag-of-words"
      ]
    },
    {
      "cell_type": "code",
      "metadata": {
        "id": "j_yjg_egl5J1"
      },
      "source": [
        "from sklearn import svm\n",
        "from sklearn.metrics import f1_score\n",
        "from sklearn.metrics import precision_score\n",
        "from sklearn.metrics import accuracy_score, make_scorer\n",
        "from sklearn.model_selection import train_test_split,cross_val_score,KFold\n",
        "from sklearn.metrics import mean_squared_error,mean_absolute_error, make_scorer,classification_report,confusion_matrix,accuracy_score,roc_auc_score,roc_curve"
      ],
      "execution_count": 37,
      "outputs": []
    },
    {
      "cell_type": "code",
      "metadata": {
        "colab": {
          "base_uri": "https://localhost:8080/",
          "height": 234
        },
        "id": "-LPzpZDRl5J1",
        "outputId": "e72ae924-a885-44e7-9bc4-6b9cd879ae90"
      },
      "source": [
        "train_bow = bow[:319620,:]\n",
        "test_bow = bow[319620:,:]\n",
        "\n",
        "#ganti data ke training dan validasi set\n",
        "xtrain_bow, xvalid_bow, ytrain, yvalid = train_test_split(train_bow, data_train['LABEL'], random_state=42, test_size=0.4)\n"
      ],
      "execution_count": 45,
      "outputs": [
        {
          "output_type": "error",
          "ename": "NameError",
          "evalue": "ignored",
          "traceback": [
            "\u001b[0;31m---------------------------------------------------------------------------\u001b[0m",
            "\u001b[0;31mNameError\u001b[0m                                 Traceback (most recent call last)",
            "\u001b[0;32m<ipython-input-45-ae2738c46518>\u001b[0m in \u001b[0;36m<module>\u001b[0;34m()\u001b[0m\n\u001b[1;32m      3\u001b[0m \u001b[0;34m\u001b[0m\u001b[0m\n\u001b[1;32m      4\u001b[0m \u001b[0;31m#ganti data ke training dan validasi set\u001b[0m\u001b[0;34m\u001b[0m\u001b[0;34m\u001b[0m\u001b[0;34m\u001b[0m\u001b[0m\n\u001b[0;32m----> 5\u001b[0;31m \u001b[0mxtrain_bow\u001b[0m\u001b[0;34m,\u001b[0m\u001b[0;34m\u001b[0m\u001b[0;34m\u001b[0m\u001b[0m\n\u001b[0m\u001b[1;32m      6\u001b[0m \u001b[0mxvalid_bow\u001b[0m\u001b[0;34m,\u001b[0m\u001b[0;34m\u001b[0m\u001b[0;34m\u001b[0m\u001b[0m\n\u001b[1;32m      7\u001b[0m \u001b[0mytrain\u001b[0m\u001b[0;34m,\u001b[0m\u001b[0;34m\u001b[0m\u001b[0;34m\u001b[0m\u001b[0m\n",
            "\u001b[0;31mNameError\u001b[0m: name 'xtrain_bow' is not defined"
          ]
        }
      ]
    },
    {
      "cell_type": "code",
      "metadata": {
        "id": "6vTlSpA5l5J1"
      },
      "source": [
        "svc = svm.SVC(kernel='linear', C=1, probability=True).fit(xtrain_bow, ytrain)\n",
        "\n",
        "prediction = svc.predict_proba(xvalid_bow)\n",
        "prediction_int = prediction[:,1] >= 0.3\n",
        "prediction_int = prediction_int.astype(np.int)\n",
        "F1_Score = f1_score(yvalid, prediction_int) #menghitung f1-score\n",
        "print('Precision score: ', precision_score(yvalid, prediction_int, average=None)) #menghitung precision score\n",
        "print('Accuracy Score: ', accuracy_score(yvalid, prediction_int)) #menghitung accuracy score\n",
        "print(f'F1_Score: {F1_Score}')"
      ],
      "execution_count": null,
      "outputs": []
    },
    {
      "cell_type": "markdown",
      "metadata": {
        "id": "E9nAQYfkl5J1"
      },
      "source": [
        "TF-IDF"
      ]
    },
    {
      "cell_type": "code",
      "metadata": {
        "id": "LmeIWkjel5J1"
      },
      "source": [
        "train_tfidf = bow[:31962,:]\n",
        "test_tfidf = bow[31962:,:]\n",
        "\n",
        "#ganti data ke training dan validasi set\n",
        "xtrain_tfidf, xvalid_tfidf, ytrain, yvalid = train_test_split(train_tfidf, data_train['label'], random_state=42, test_size=0.5)\n"
      ],
      "execution_count": null,
      "outputs": []
    },
    {
      "cell_type": "code",
      "metadata": {
        "id": "Nt3z_4Lul5J1"
      },
      "source": [
        "svc = svm.SVC(kernel='linear', C=1, probability=True).fit(xtrain_tfidf, ytrain)\n",
        "\n",
        "prediction = svc.predict_proba(xvalid_tfidf)\n",
        "prediction_int = prediction[:,1] >= 0.3\n",
        "prediction_int = prediction_int.astype(np.int)\n",
        "F1_Score = f1_score(yvalid, prediction_int) #menghitung f1-score\n",
        "print('Precision score: ', precision_score(yvalid, prediction_int, average=None)) #menghitung precision_score\n",
        "print('Accuracy Score: ', accuracy_score(yvalid, prediction_int)) #menghitung accuracy score\n",
        "print(f'F1_Score: {F1_Score}')"
      ],
      "execution_count": null,
      "outputs": []
    },
    {
      "cell_type": "markdown",
      "metadata": {
        "id": "sKu_KHCRl5J2"
      },
      "source": [
        "Word2Vec"
      ]
    },
    {
      "cell_type": "code",
      "metadata": {
        "id": "xLkeq3Prl5J2"
      },
      "source": [
        "train_w2v = wordvec_df.iloc[:31962,:]\n",
        "test_w2v = wordvec_df.iloc[31962:,:]\n",
        "\n",
        "xtrain_w2v = train_w2v.iloc[ytrain.index,:]\n",
        "xvalid_w2v = train_w2v.iloc[yvalid.index,:]"
      ],
      "execution_count": null,
      "outputs": []
    },
    {
      "cell_type": "code",
      "metadata": {
        "id": "_3k9qe71l5J2"
      },
      "source": [
        "svc = svm.SVC(kernel='linear', C=1, probability=True).fit(xtrain_w2v, ytrain)\n",
        "\n",
        "prediction = svc.predict_proba(xvalid_w2v)\n",
        "prediction_int = prediction[:,1] >= 0.3\n",
        "prediction_int = prediction_int.astype(np.int)\n",
        "F1_Score = f1_score(yvalid, prediction_int) # menghitung f1 score\n",
        "print('Precision score: ', precision_score(yvalid, prediction_int, average=None)) #menghitung precision score\n",
        "print('Accuracy Score: ', accuracy_score(yvalid, prediction_int)) #menghitung accuracy score\n",
        "print(f'F1_Score: {F1_Score}')"
      ],
      "execution_count": null,
      "outputs": []
    },
    {
      "cell_type": "markdown",
      "metadata": {
        "id": "XaKhTT3Ul5J2"
      },
      "source": [
        "## Evaluation"
      ]
    },
    {
      "cell_type": "code",
      "metadata": {
        "id": "qdNiEVrel5J2"
      },
      "source": [
        "MODEL_ID = []\n",
        "Accuracy = []\n",
        "LOG_CV_ERR = []\n",
        "F1Score = []\n",
        "def calculate_log_cv_error(logmodel,X_train,y_train):\n",
        "    ms_errors= cross_val_score(logmodel, X_train, y_train, cv=5, scoring = make_scorer(mean_squared_error))\n",
        "    rms_errors = np.sqrt(ms_errors)\n",
        "    mean_rms_error = rms_errors.mean()\n",
        "    return mean_rms_error"
      ],
      "execution_count": null,
      "outputs": []
    },
    {
      "cell_type": "code",
      "metadata": {
        "id": "N_7luJ1ll5J2"
      },
      "source": [
        "def evaluate_model(logmodel,X_train,X_test,y_train,y_test,predictions):\n",
        "    log_cv_error = calculate_log_cv_error(logmodel,X_train,y_train)\n",
        "    print(f'\\nClassification Report:\\n{classification_report(y_test,predictions)}')\n",
        "    print('')\n",
        "    print(f'\\nConfusion Matrix:\\n{confusion_matrix(y_test,predictions)}')\n",
        "    print('')\n",
        "    print (f'\\nAccuracy Score:  {accuracy_score(y_test,predictions)}')\n",
        "    print(\"Cross Validation Error: \",log_cv_error)\n",
        "    logit_roc_auc = roc_auc_score(y_test, logmodel.predict(X_test))\n",
        "    fpr, tpr, thresholds = roc_curve(y_test, logmodel.predict_proba(X_test)[:,1])\n",
        "    LOG_CV_ERR.append(log_cv_error)\n",
        "    plt.figure()\n",
        "    plt.plot(fpr, tpr, label='Logistic Regression (area = %0.2f)' % logit_roc_auc)\n",
        "    plt.plot([0, 1], [0, 1],'r--')\n",
        "    plt.xlim([0.0, 1.0])\n",
        "    plt.ylim([0.0, 1.05])\n",
        "    plt.xlabel('False Positive Rate')\n",
        "    plt.ylabel('True Positive Rate')\n",
        "    plt.title('Receiver Operating Characteristic')\n",
        "    plt.legend(loc=\"lower right\")\n",
        "    plt.show()"
      ],
      "execution_count": null,
      "outputs": []
    },
    {
      "cell_type": "code",
      "metadata": {
        "id": "QCVwPqr9l5J2"
      },
      "source": [
        "evaluate_model(svc,xtrain_w2v,xvalid_w2v,ytrain,yvalid,prediction_int)\n",
        "MODEL_ID.append('Support Vector Classifier')\n",
        "Accuracy.append(accuracy_score(yvalid, prediction_int))\n",
        "F1Score.append(f1_score(yvalid, prediction_int))"
      ],
      "execution_count": null,
      "outputs": []
    },
    {
      "cell_type": "markdown",
      "metadata": {
        "id": "f9TUQNmSl5J3"
      },
      "source": [
        "SVM bekerja sangat baik dengan batas pemisah yang jelas pada dua karakteristik dan ruang berdimensi yang tinggi."
      ]
    }
  ]
}